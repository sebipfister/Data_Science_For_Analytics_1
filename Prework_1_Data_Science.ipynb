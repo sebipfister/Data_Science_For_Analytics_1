{
 "cells": [
  {
   "cell_type": "markdown",
   "metadata": {},
   "source": [
    "# Prework_1_Data_Science Course Paris April 2016\n",
    "\n"
   ]
  },
  {
   "cell_type": "markdown",
   "metadata": {},
   "source": [
    "# A) Basic List Exercices"
   ]
  },
  {
   "cell_type": "markdown",
   "metadata": {},
   "source": [
    "## A. match_ends"
   ]
  },
  {
   "cell_type": "code",
   "execution_count": 1,
   "metadata": {
    "collapsed": true
   },
   "outputs": [],
   "source": [
    "a = ['abba','axa','beta','delta','ovo']\n",
    "\n",
    "def match_ends(words):\n",
    "    counter = 0\n",
    "    for x in words:\n",
    "        if len(x) > 1:\n",
    "            if x[0] == x[(len(x)-1)]:         # Vergleich von zwei Werten: == statt = (Zuweisung)\n",
    "              counter += 1                   # ist gleich: counter = counter + 1 \n",
    "     \n",
    "    return counter"
   ]
  },
  {
   "cell_type": "code",
   "execution_count": 2,
   "metadata": {
    "collapsed": false
   },
   "outputs": [
    {
     "data": {
      "text/plain": [
       "3"
      ]
     },
     "execution_count": 2,
     "metadata": {},
     "output_type": "execute_result"
    }
   ],
   "source": [
    "match_ends(a)"
   ]
  },
  {
   "cell_type": "markdown",
   "metadata": {},
   "source": [
    "## B. front_x"
   ]
  },
  {
   "cell_type": "code",
   "execution_count": 3,
   "metadata": {
    "collapsed": true
   },
   "outputs": [],
   "source": [
    "a=(\"xaver\", \"xylophon\", \"xfactor\", \"apple\", \"tomato\", \"banana\", \"mango\", \"xund\")\n",
    "def front_x(words):\n",
    "    list_x = list()# macht eine leere Liste für Wörter beginnend mit x\n",
    "    list_alph = list () #Liste für alle anderen Wörter\n",
    "    for xses in a:\n",
    "        if xses[0]=='x': #Wenn der erste Buchstabe x ist..\n",
    "            list_x.append(xses) #dann füge das Wort der Liste list_x dazu\n",
    "        else:\n",
    "            list_alph.append(xses) #sonst fügst du es list_alph dazu\n",
    "    print sorted (list_x)+ sorted (list_alph)#Sortiere die beiden Listen alphabetisch und füge sie zusammen\n",
    "    return;\n"
   ]
  },
  {
   "cell_type": "code",
   "execution_count": 4,
   "metadata": {
    "collapsed": false
   },
   "outputs": [
    {
     "name": "stdout",
     "output_type": "stream",
     "text": [
      "['xaver', 'xfactor', 'xund', 'xylophon', 'apple', 'banana', 'mango', 'tomato']\n"
     ]
    }
   ],
   "source": [
    "front_x(a)"
   ]
  },
  {
   "cell_type": "markdown",
   "metadata": {},
   "source": [
    "## C. sort_last"
   ]
  },
  {
   "cell_type": "code",
   "execution_count": 6,
   "metadata": {
    "collapsed": true
   },
   "outputs": [],
   "source": [
    "tuple = [(1,7), (1,3), (3, 4, 9), (2,2),(3,3), (1, 13, 4, 1)]\n",
    "def sort_last (tuples):\n",
    "    print sorted (tuple, key=lambda x: x[-1]) #Sortiere \"tuple\" nach dem Schlüssel lambda, x[-1] nimmt den letzten Wert\n",
    "    return;\n"
   ]
  },
  {
   "cell_type": "code",
   "execution_count": 7,
   "metadata": {
    "collapsed": false
   },
   "outputs": [
    {
     "name": "stdout",
     "output_type": "stream",
     "text": [
      "[(1, 13, 4, 1), (2, 2), (1, 3), (3, 3), (1, 7), (3, 4, 9)]\n"
     ]
    }
   ],
   "source": [
    "sort_last (tuple)"
   ]
  },
  {
   "cell_type": "markdown",
   "metadata": {},
   "source": [
    "## D. remove_adjacent"
   ]
  },
  {
   "cell_type": "code",
   "execution_count": 8,
   "metadata": {
    "collapsed": true
   },
   "outputs": [],
   "source": [
    "a=[1,2,2,3,4,4,2,3,2,2,23,2]\n",
    "def remove_adjacent(nums):\n",
    "  a = []\n",
    "  for item in nums:\n",
    "    if len(a):\n",
    "      if a[-1] != item:\n",
    "        a.append(item)\n",
    "    else: a.append(item)        \n",
    "  return a\n",
    "\n",
    "\n"
   ]
  },
  {
   "cell_type": "code",
   "execution_count": 9,
   "metadata": {
    "collapsed": false
   },
   "outputs": [
    {
     "data": {
      "text/plain": [
       "[1, 2, 3, 4, 2, 3, 2, 23, 2]"
      ]
     },
     "execution_count": 9,
     "metadata": {},
     "output_type": "execute_result"
    }
   ],
   "source": [
    "remove_adjacent(a)"
   ]
  },
  {
   "cell_type": "markdown",
   "metadata": {},
   "source": [
    "# B) Basic String Exercices"
   ]
  },
  {
   "cell_type": "markdown",
   "metadata": {},
   "source": [
    "##  A. Donuts"
   ]
  },
  {
   "cell_type": "code",
   "execution_count": 26,
   "metadata": {
    "collapsed": false
   },
   "outputs": [],
   "source": [
    "\n",
    "def donuts(x):\n",
    "    if x >= 10:\n",
    "        x = 'many'\n",
    "    else:\n",
    "        x = str(x)\n",
    "    return 'Number of donuts: %s' % x"
   ]
  },
  {
   "cell_type": "code",
   "execution_count": 27,
   "metadata": {
    "collapsed": false
   },
   "outputs": [
    {
     "data": {
      "text/plain": [
       "'Number of donuts: 8'"
      ]
     },
     "execution_count": 27,
     "metadata": {},
     "output_type": "execute_result"
    }
   ],
   "source": [
    "donuts(8)"
   ]
  },
  {
   "cell_type": "markdown",
   "metadata": {},
   "source": [
    "## D. MixUp"
   ]
  },
  {
   "cell_type": "code",
   "execution_count": 34,
   "metadata": {
    "collapsed": false
   },
   "outputs": [
    {
     "name": "stdout",
     "output_type": "stream",
     "text": [
      "Hello-world\n"
     ]
    }
   ],
   "source": [
    "#Part 1\n",
    "#Given strings a and b, return a single string with a and b separated by a space '<a> <b>'\n",
    "a=(\"Test\")\n",
    "b=(\"File\")\n",
    "my_list = [\"Hello\", \"world\"]\n",
    "print \"-\".join(my_list)"
   ]
  },
  {
   "cell_type": "code",
   "execution_count": null,
   "metadata": {
    "collapsed": true
   },
   "outputs": [],
   "source": []
  }
 ],
 "metadata": {
  "kernelspec": {
   "display_name": "Python 2",
   "language": "python",
   "name": "python2"
  },
  "language_info": {
   "codemirror_mode": {
    "name": "ipython",
    "version": 2
   },
   "file_extension": ".py",
   "mimetype": "text/x-python",
   "name": "python",
   "nbconvert_exporter": "python",
   "pygments_lexer": "ipython2",
   "version": "2.7.11"
  }
 },
 "nbformat": 4,
 "nbformat_minor": 0
}
